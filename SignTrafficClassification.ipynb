{
  "nbformat": 4,
  "nbformat_minor": 0,
  "metadata": {
    "colab": {
      "name": "SignTrafficClassification.ipynb",
      "provenance": [],
      "collapsed_sections": []
    },
    "kernelspec": {
      "name": "python3",
      "display_name": "Python 3"
    },
    "accelerator": "GPU"
  },
  "cells": [
    {
      "cell_type": "code",
      "metadata": {
        "id": "A5EDTqIgnTLJ",
        "outputId": "377bd0b8-1383-4b53-aa51-2037af64b1a9",
        "colab": {
          "base_uri": "https://localhost:8080/"
        }
      },
      "source": [
        "from google.colab import drive\n",
        "drive.mount('/content/drive')"
      ],
      "execution_count": null,
      "outputs": [
        {
          "output_type": "stream",
          "text": [
            "Drive already mounted at /content/drive; to attempt to forcibly remount, call drive.mount(\"/content/drive\", force_remount=True).\n"
          ],
          "name": "stdout"
        }
      ]
    },
    {
      "cell_type": "code",
      "metadata": {
        "id": "rukvMfBS-VNf"
      },
      "source": [
        "# %cd /content\n",
        "# !unzip /content/drive/'My Drive'/'Colab Notebooks'/data.zip"
      ],
      "execution_count": null,
      "outputs": []
    },
    {
      "cell_type": "code",
      "metadata": {
        "id": "OSBTfH7z7318"
      },
      "source": [
        "# !mkdir -p ~/.kaggle\n",
        "# !cp kaggle.json ~/.kaggle/\n",
        "# !ls ~/.kaggle\n",
        "# !chmod 600 /root/.kaggle/kaggle.json"
      ],
      "execution_count": null,
      "outputs": []
    },
    {
      "cell_type": "code",
      "metadata": {
        "id": "k4Z_quBw7_X8"
      },
      "source": [
        "# !kaggle datasets download -d meowmeowmeowmeowmeow/gtsrb-german-traffic-sign\n"
      ],
      "execution_count": null,
      "outputs": []
    },
    {
      "cell_type": "code",
      "metadata": {
        "id": "KFENpRcj8KZh"
      },
      "source": [
        "# from zipfile import ZipFile\n",
        "# file_name=\"gtsrb-german-traffic-sign.zip\"\n",
        "# with ZipFile(file_name,'r') as zip:\n",
        "#   zip.extractall()\n",
        "#   print(\"done\")"
      ],
      "execution_count": null,
      "outputs": []
    },
    {
      "cell_type": "code",
      "metadata": {
        "id": "3UrzGOEb8sb1"
      },
      "source": [
        "#!unzip /content/gtsrb-german-traffic-sign.zip -d \"/content/drive/My Drive/Colab Notebooks/Data/SignTraffic\""
      ],
      "execution_count": null,
      "outputs": []
    },
    {
      "cell_type": "markdown",
      "metadata": {
        "id": "isk4KO519rs-"
      },
      "source": [
        "<font size=\"5\">**Import library for project** </font>"
      ]
    },
    {
      "cell_type": "code",
      "metadata": {
        "id": "mNPmZNuI85ye"
      },
      "source": [
        "import os\n",
        "import numpy as np\n",
        "from matplotlib import pyplot as plt\n",
        "import tensorflow as tf\n",
        "from sklearn.model_selection import train_test_split\n",
        "from PIL import Image\n",
        "from keras.layers import Conv2D, MaxPool2D,Dense,Dropout,Flatten\n",
        "from keras.utils import to_categorical \n",
        "from keras.models import Sequential"
      ],
      "execution_count": null,
      "outputs": []
    },
    {
      "cell_type": "markdown",
      "metadata": {
        "id": "qtGWnPS6-n3c"
      },
      "source": [
        "<font size=\"5\">**Read data**</font>"
      ]
    },
    {
      "cell_type": "code",
      "metadata": {
        "id": "d_75-LDSvPS7"
      },
      "source": [
        "size=50"
      ],
      "execution_count": null,
      "outputs": []
    },
    {
      "cell_type": "code",
      "metadata": {
        "id": "EHvT0vEk9g_h",
        "outputId": "c4e5d024-806c-4de6-ae74-7d568553a61c",
        "colab": {
          "base_uri": "https://localhost:8080/"
        }
      },
      "source": [
        "%cd /content/DataCNN\n",
        "data = []\n",
        "labels = []\n",
        "classes = 43\n",
        "cur_path = os.getcwd()\n",
        "#Retrieving the images and their labels\n",
        "for i in range(classes):\n",
        "    path = os.path.join(cur_path,'Train',str(i))\n",
        "    images = os.listdir(path)\n",
        "    for a in images:\n",
        "        try:\n",
        "            path_to_image=path+'/'+a\n",
        "            image = Image.open(\"{}\".format(path_to_image)).convert('RGB')\n",
        "            image = image.resize((size,size))\n",
        "            image = np.array(image)\n",
        "            #sim = Image.fromarray(image)\n",
        "            data.append(image)\n",
        "            labels.append(i)\n",
        "        except:\n",
        "            print(\"Error loading image\")\n",
        "\n",
        "print(len(data))\n",
        "print(len(labels))"
      ],
      "execution_count": null,
      "outputs": [
        {
          "output_type": "stream",
          "text": [
            "/content/DataCNN\n",
            "39209\n",
            "39209\n"
          ],
          "name": "stdout"
        }
      ]
    },
    {
      "cell_type": "markdown",
      "metadata": {
        "id": "inAdBxUEJCLl"
      },
      "source": [
        "<font size=\"5\">**Split data into training data and test data**</font>"
      ]
    },
    {
      "cell_type": "code",
      "metadata": {
        "id": "HOsrToBVG0r7",
        "outputId": "c4c3d228-5b6f-424e-86c2-7af623430ecd",
        "colab": {
          "base_uri": "https://localhost:8080/"
        }
      },
      "source": [
        "data=np.array(data)\n",
        "labels=np.array(labels)\n",
        "X_train,x_test,Y_train,y_test=train_test_split(data,labels,train_size=0.8)\n",
        "x_train,x_val,y_train,y_val=train_test_split(X_train,Y_train,train_size=0.75)\n",
        "print(x_train.shape,x_test.shape,x_val.shape)\n",
        "print(y_train.shape,y_test.shape,y_val.shape)"
      ],
      "execution_count": null,
      "outputs": [
        {
          "output_type": "stream",
          "text": [
            "(23525, 50, 50, 3) (7842, 50, 50, 3) (7842, 50, 50, 3)\n",
            "(23525,) (7842,) (7842,)\n"
          ],
          "name": "stdout"
        }
      ]
    },
    {
      "cell_type": "markdown",
      "metadata": {
        "id": "NoYQBqsmI2vz"
      },
      "source": [
        "<font size=\"5\">**Build one-hot coding matrix**</font>"
      ]
    },
    {
      "cell_type": "code",
      "metadata": {
        "id": "FDgKDf3HIf9H",
        "outputId": "26d69320-ee79-4b15-8cc3-b394e1e5ba90",
        "colab": {
          "base_uri": "https://localhost:8080/"
        }
      },
      "source": [
        "y_train=to_categorical(y_train,43)\n",
        "y_test=to_categorical(y_test,43)\n",
        "y_val=to_categorical(y_val,43)\n",
        "print(y_train.shape)\n",
        "print(y_test.shape)\n"
      ],
      "execution_count": null,
      "outputs": [
        {
          "output_type": "stream",
          "text": [
            "(23525, 43)\n",
            "(7842, 43)\n"
          ],
          "name": "stdout"
        }
      ]
    },
    {
      "cell_type": "markdown",
      "metadata": {
        "id": "3dCxZT0BUtke"
      },
      "source": [
        "<font size=\"5\">**Build model CNN**</font>"
      ]
    },
    {
      "cell_type": "code",
      "metadata": {
        "id": "L8fH-M4xJY8T"
      },
      "source": [
        "model=Sequential()\n",
        "\n",
        "#convolutional block\n",
        "model.add(Conv2D(filters=32,kernel_size=(5,5),activation='relu',input_shape=x_train.shape[1:]))\n",
        "#model.add(Conv2D(filters=32,kernel_size=(5,5),activation='relu',input_shape=(None,None,3)))\n",
        "model.add(Conv2D(filters=32,kernel_size=(5,5),activation='relu'))\n",
        "model.add(MaxPool2D(pool_size=(2,2)))\n",
        "model.add(Dropout(rate=0.25))\n",
        "model.add(Conv2D(filters=64,kernel_size=(3,3),activation='relu'))\n",
        "model.add(Conv2D(filters=64,kernel_size=(3,3),activation='relu'))\n",
        "model.add(MaxPool2D(pool_size=(2,2)))\n",
        "model.add(Dropout(rate=0.25))\n",
        "model.add(Flatten())\n",
        "\n",
        "#neural network\n",
        "model.add(Dense(256,activation='relu'))\n",
        "model.add(Dropout(rate=0.25))\n",
        "model.add(Dense(43,activation='softmax'))\n",
        "\n",
        "model.compile(loss='categorical_crossentropy',\n",
        "              optimizer='adam',\n",
        "              metrics=['accuracy'])"
      ],
      "execution_count": null,
      "outputs": []
    },
    {
      "cell_type": "code",
      "metadata": {
        "id": "N7Q-UbG3ZGXp"
      },
      "source": [
        "epochs=25"
      ],
      "execution_count": null,
      "outputs": []
    },
    {
      "cell_type": "code",
      "metadata": {
        "id": "3iesUuo0Xy8s",
        "outputId": "b8c8a089-d4f8-412c-dfc0-42f673315198",
        "colab": {
          "base_uri": "https://localhost:8080/"
        }
      },
      "source": [
        "train_history=model.fit(x_train,y_train,validation_data=(x_val,y_val),batch_size=32,epochs=epochs)"
      ],
      "execution_count": null,
      "outputs": [
        {
          "output_type": "stream",
          "text": [
            "Epoch 1/25\n",
            "736/736 [==============================] - 6s 8ms/step - loss: 1.4256 - accuracy: 0.6666 - val_loss: 0.2492 - val_accuracy: 0.9361\n",
            "Epoch 2/25\n",
            "736/736 [==============================] - 6s 8ms/step - loss: 0.3678 - accuracy: 0.8938 - val_loss: 0.1866 - val_accuracy: 0.9637\n",
            "Epoch 3/25\n",
            "736/736 [==============================] - 6s 8ms/step - loss: 0.2639 - accuracy: 0.9207 - val_loss: 0.1115 - val_accuracy: 0.9721\n",
            "Epoch 4/25\n",
            "736/736 [==============================] - 6s 8ms/step - loss: 0.2109 - accuracy: 0.9359 - val_loss: 0.0776 - val_accuracy: 0.9793\n",
            "Epoch 5/25\n",
            "736/736 [==============================] - 6s 8ms/step - loss: 0.1909 - accuracy: 0.9448 - val_loss: 0.0988 - val_accuracy: 0.9760\n",
            "Epoch 6/25\n",
            "736/736 [==============================] - 6s 8ms/step - loss: 0.1726 - accuracy: 0.9473 - val_loss: 0.0803 - val_accuracy: 0.9773\n",
            "Epoch 7/25\n",
            "736/736 [==============================] - 6s 8ms/step - loss: 0.1447 - accuracy: 0.9563 - val_loss: 0.0808 - val_accuracy: 0.9781\n",
            "Epoch 8/25\n",
            "736/736 [==============================] - 6s 8ms/step - loss: 0.1244 - accuracy: 0.9628 - val_loss: 0.0686 - val_accuracy: 0.9833\n",
            "Epoch 9/25\n",
            "736/736 [==============================] - 6s 8ms/step - loss: 0.1304 - accuracy: 0.9603 - val_loss: 0.0604 - val_accuracy: 0.9839\n",
            "Epoch 10/25\n",
            "736/736 [==============================] - 6s 8ms/step - loss: 0.1104 - accuracy: 0.9665 - val_loss: 0.0617 - val_accuracy: 0.9841\n",
            "Epoch 11/25\n",
            "736/736 [==============================] - 6s 8ms/step - loss: 0.1169 - accuracy: 0.9654 - val_loss: 0.0498 - val_accuracy: 0.9880\n",
            "Epoch 12/25\n",
            "736/736 [==============================] - 6s 8ms/step - loss: 0.1076 - accuracy: 0.9680 - val_loss: 0.0510 - val_accuracy: 0.9887\n",
            "Epoch 13/25\n",
            "736/736 [==============================] - 6s 8ms/step - loss: 0.0960 - accuracy: 0.9705 - val_loss: 0.0521 - val_accuracy: 0.9888\n",
            "Epoch 14/25\n",
            "736/736 [==============================] - 6s 8ms/step - loss: 0.1036 - accuracy: 0.9701 - val_loss: 0.0520 - val_accuracy: 0.9895\n",
            "Epoch 15/25\n",
            "736/736 [==============================] - 6s 8ms/step - loss: 0.0996 - accuracy: 0.9710 - val_loss: 0.1544 - val_accuracy: 0.9560\n",
            "Epoch 16/25\n",
            "736/736 [==============================] - 6s 8ms/step - loss: 0.0775 - accuracy: 0.9772 - val_loss: 0.0488 - val_accuracy: 0.9904\n",
            "Epoch 17/25\n",
            "736/736 [==============================] - 6s 8ms/step - loss: 0.0853 - accuracy: 0.9753 - val_loss: 0.0631 - val_accuracy: 0.9839\n",
            "Epoch 18/25\n",
            "736/736 [==============================] - 6s 8ms/step - loss: 0.0815 - accuracy: 0.9759 - val_loss: 0.0570 - val_accuracy: 0.9893\n",
            "Epoch 19/25\n",
            "736/736 [==============================] - 6s 8ms/step - loss: 0.1050 - accuracy: 0.9707 - val_loss: 0.0586 - val_accuracy: 0.9890\n",
            "Epoch 20/25\n",
            "736/736 [==============================] - 6s 8ms/step - loss: 0.0773 - accuracy: 0.9783 - val_loss: 0.0597 - val_accuracy: 0.9869\n",
            "Epoch 21/25\n",
            "736/736 [==============================] - 6s 8ms/step - loss: 0.0746 - accuracy: 0.9791 - val_loss: 0.0711 - val_accuracy: 0.9848\n",
            "Epoch 22/25\n",
            "736/736 [==============================] - 6s 8ms/step - loss: 0.0785 - accuracy: 0.9787 - val_loss: 0.0606 - val_accuracy: 0.9880\n",
            "Epoch 23/25\n",
            "736/736 [==============================] - 6s 9ms/step - loss: 0.0832 - accuracy: 0.9761 - val_loss: 0.0607 - val_accuracy: 0.9878\n",
            "Epoch 24/25\n",
            "736/736 [==============================] - 6s 8ms/step - loss: 0.0865 - accuracy: 0.9763 - val_loss: 0.0517 - val_accuracy: 0.9917\n",
            "Epoch 25/25\n",
            "736/736 [==============================] - 6s 8ms/step - loss: 0.0722 - accuracy: 0.9781 - val_loss: 0.0616 - val_accuracy: 0.9884\n"
          ],
          "name": "stdout"
        }
      ]
    },
    {
      "cell_type": "code",
      "metadata": {
        "id": "by_GNSspY7Dx",
        "outputId": "95fa760a-ef0a-4762-ecc8-48a223efa106",
        "colab": {
          "base_uri": "https://localhost:8080/",
          "height": 671
        }
      },
      "source": [
        "fig=plt.figure(figsize=(10,10))\n",
        "parameter=['loss','val_loss','accuracy','val_accuracy']\n",
        "labels=['Training loss','Validation loss','Accuracy for training','Validation loss']\n",
        "\n",
        "for i in range(len(parameter)):\n",
        "  plt.subplot(2,2,i+1)\n",
        "  plt.plot(np.arange(epochs),train_history.history[parameter[i]])\n",
        "  plt.title(labels[i])\n",
        "  plt.xlabel('Epochs')\n",
        "\n",
        "fig.tight_layout(pad=4.0)\n",
        "plt.show()"
      ],
      "execution_count": null,
      "outputs": [
        {
          "output_type": "display_data",
          "data": {
            "image/png": "[encoded data removed]",
            "text/plain": [
              "<Figure size 720x720 with 4 Axes>"
            ]
          },
          "metadata": {
            "tags": [],
            "needs_background": "light"
          }
        }
      ]
    },
    {
      "cell_type": "code",
      "metadata": {
        "id": "AjD0w9hDaPL6",
        "outputId": "5ec7d9eb-f3ed-45ad-e8ae-f788e52ee99f",
        "colab": {
          "base_uri": "https://localhost:8080/",
          "height": 221
        }
      },
      "source": [
        "%cd /content/DataCNN\n",
        "import pandas as pd\n",
        "table=pd.read_csv('Test.csv')\n",
        "labels_test=table['ClassId'].values\n",
        "path_image=table['Path'].values\n",
        "table.head()"
      ],
      "execution_count": null,
      "outputs": [
        {
          "output_type": "stream",
          "text": [
            "/content/DataCNN\n"
          ],
          "name": "stdout"
        },
        {
          "output_type": "execute_result",
          "data": {
            "text/html": [
              "<div>\n",
              "<style scoped>\n",
              "    .dataframe tbody tr th:only-of-type {\n",
              "        vertical-align: middle;\n",
              "    }\n",
              "\n",
              "    .dataframe tbody tr th {\n",
              "        vertical-align: top;\n",
              "    }\n",
              "\n",
              "    .dataframe thead th {\n",
              "        text-align: right;\n",
              "    }\n",
              "</style>\n",
              "<table border=\"1\" class=\"dataframe\">\n",
              "  <thead>\n",
              "    <tr style=\"text-align: right;\">\n",
              "      <th></th>\n",
              "      <th>Width</th>\n",
              "      <th>Height</th>\n",
              "      <th>Roi.X1</th>\n",
              "      <th>Roi.Y1</th>\n",
              "      <th>Roi.X2</th>\n",
              "      <th>Roi.Y2</th>\n",
              "      <th>ClassId</th>\n",
              "      <th>Path</th>\n",
              "    </tr>\n",
              "  </thead>\n",
              "  <tbody>\n",
              "    <tr>\n",
              "      <th>0</th>\n",
              "      <td>53</td>\n",
              "      <td>54</td>\n",
              "      <td>6</td>\n",
              "      <td>5</td>\n",
              "      <td>48</td>\n",
              "      <td>49</td>\n",
              "      <td>16</td>\n",
              "      <td>Test/00000.png</td>\n",
              "    </tr>\n",
              "    <tr>\n",
              "      <th>1</th>\n",
              "      <td>42</td>\n",
              "      <td>45</td>\n",
              "      <td>5</td>\n",
              "      <td>5</td>\n",
              "      <td>36</td>\n",
              "      <td>40</td>\n",
              "      <td>1</td>\n",
              "      <td>Test/00001.png</td>\n",
              "    </tr>\n",
              "    <tr>\n",
              "      <th>2</th>\n",
              "      <td>48</td>\n",
              "      <td>52</td>\n",
              "      <td>6</td>\n",
              "      <td>6</td>\n",
              "      <td>43</td>\n",
              "      <td>47</td>\n",
              "      <td>38</td>\n",
              "      <td>Test/00002.png</td>\n",
              "    </tr>\n",
              "    <tr>\n",
              "      <th>3</th>\n",
              "      <td>27</td>\n",
              "      <td>29</td>\n",
              "      <td>5</td>\n",
              "      <td>5</td>\n",
              "      <td>22</td>\n",
              "      <td>24</td>\n",
              "      <td>33</td>\n",
              "      <td>Test/00003.png</td>\n",
              "    </tr>\n",
              "    <tr>\n",
              "      <th>4</th>\n",
              "      <td>60</td>\n",
              "      <td>57</td>\n",
              "      <td>5</td>\n",
              "      <td>5</td>\n",
              "      <td>55</td>\n",
              "      <td>52</td>\n",
              "      <td>11</td>\n",
              "      <td>Test/00004.png</td>\n",
              "    </tr>\n",
              "  </tbody>\n",
              "</table>\n",
              "</div>"
            ],
            "text/plain": [
              "   Width  Height  Roi.X1  Roi.Y1  Roi.X2  Roi.Y2  ClassId            Path\n",
              "0     53      54       6       5      48      49       16  Test/00000.png\n",
              "1     42      45       5       5      36      40        1  Test/00001.png\n",
              "2     48      52       6       6      43      47       38  Test/00002.png\n",
              "3     27      29       5       5      22      24       33  Test/00003.png\n",
              "4     60      57       5       5      55      52       11  Test/00004.png"
            ]
          },
          "metadata": {
            "tags": []
          },
          "execution_count": 58
        }
      ]
    },
    {
      "cell_type": "code",
      "metadata": {
        "id": "xapoM9Uwb6eH",
        "outputId": "6dbe4350-be06-4265-bf39-6f5d4965dda9",
        "colab": {
          "base_uri": "https://localhost:8080/"
        }
      },
      "source": [
        "print(type(labels_test))\n",
        "print(type(path_image))"
      ],
      "execution_count": null,
      "outputs": [
        {
          "output_type": "stream",
          "text": [
            "<class 'numpy.ndarray'>\n",
            "<class 'numpy.ndarray'>\n"
          ],
          "name": "stdout"
        }
      ]
    },
    {
      "cell_type": "code",
      "metadata": {
        "id": "l9TKpIfkcBqQ",
        "outputId": "555ca52c-6cc8-4305-ba0e-aba8af2fbfe3",
        "colab": {
          "base_uri": "https://localhost:8080/"
        }
      },
      "source": [
        "data_test=[]\n",
        "for path in path_image:\n",
        "  image=Image.open(\"{}\".format(path))\n",
        "  image=image.resize((size,size))\n",
        "  data_test.append(np.array(image))\n",
        "\n",
        "x_test_new=np.array(data_test)\n",
        "labels_predict_for_test=np.argmax(model.predict(x_test_new),axis=1)\n",
        "print(labels_predict_for_test.shape)\n",
        "print(labels_test.shape)\n"
      ],
      "execution_count": null,
      "outputs": [
        {
          "output_type": "stream",
          "text": [
            "(12630,)\n",
            "(12630,)\n"
          ],
          "name": "stdout"
        }
      ]
    },
    {
      "cell_type": "code",
      "metadata": {
        "id": "z_P46XHWcvSg",
        "outputId": "1f9712fa-5ec0-4310-f769-5c25aa4f0ff0",
        "colab": {
          "base_uri": "https://localhost:8080/"
        }
      },
      "source": [
        "from sklearn.metrics import accuracy_score\n",
        "print(\"Accuracy for Test:\",accuracy_score(labels_predict_for_test,labels_test))\n"
      ],
      "execution_count": null,
      "outputs": [
        {
          "output_type": "stream",
          "text": [
            "Accuracy for Test: 0.9500395882818685\n"
          ],
          "name": "stdout"
        }
      ]
    },
    {
      "cell_type": "code",
      "metadata": {
        "id": "2xateY0OHnLN",
        "outputId": "66337fd0-a965-4926-a0e4-c03029e29b46",
        "colab": {
          "base_uri": "https://localhost:8080/"
        }
      },
      "source": [
        "table_meta=pd.read_csv('Meta.csv')\n",
        "labels_meta=table_meta['ClassId'].values\n",
        "path_image_meta=table_meta['Path'].values\n",
        "print(table_meta.shape)\n",
        "print(labels_meta.shape)"
      ],
      "execution_count": null,
      "outputs": [
        {
          "output_type": "stream",
          "text": [
            "(43, 5)\n",
            "(43,)\n"
          ],
          "name": "stdout"
        }
      ]
    },
    {
      "cell_type": "code",
      "metadata": {
        "id": "gQK3yNRPe5-J",
        "outputId": "993d5a54-14c2-4419-9270-d1bbd68dcda6",
        "colab": {
          "base_uri": "https://localhost:8080/"
        }
      },
      "source": [
        "data_meta=[]\n",
        "for path in path_image_meta:\n",
        "  image=Image.open(\"{}\".format(path)).convert('RGB')\n",
        "  image=image.resize((size,size))\n",
        "  data_meta.append(np.array(image))\n",
        "\n",
        "x_meta_new=np.array(data_meta)\n",
        "labels_predict_for_meta=np.argmax(model.predict(x_meta_new),axis=1)\n",
        "print(labels_predict_for_meta.shape)\n",
        "\n"
      ],
      "execution_count": null,
      "outputs": [
        {
          "output_type": "stream",
          "text": [
            "(43,)\n"
          ],
          "name": "stdout"
        }
      ]
    },
    {
      "cell_type": "code",
      "metadata": {
        "id": "WZJeid04IFXo",
        "outputId": "1697e94f-e4a2-466d-ad10-b625a0ab49a5",
        "colab": {
          "base_uri": "https://localhost:8080/"
        }
      },
      "source": [
        "print(\"Accuracy for meta:\",accuracy_score(labels_predict_for_meta,labels_meta))"
      ],
      "execution_count": null,
      "outputs": [
        {
          "output_type": "stream",
          "text": [
            "Accuracy for meta: 0.4418604651162791\n"
          ],
          "name": "stdout"
        }
      ]
    },
    {
      "cell_type": "code",
      "metadata": {
        "id": "Tda36pNfINNW",
        "outputId": "2646d3d5-2062-4b15-9fd9-47ec90928b35",
        "colab": {
          "base_uri": "https://localhost:8080/"
        }
      },
      "source": [
        "%cd /content\n",
        "model.save('SignTraffic{}.h5'.format(size))"
      ],
      "execution_count": null,
      "outputs": [
        {
          "output_type": "stream",
          "text": [
            "/content\n"
          ],
          "name": "stdout"
        }
      ]
    },
    {
      "cell_type": "code",
      "metadata": {
        "id": "rDN2XMNSwaSX"
      },
      "source": [
        ""
      ],
      "execution_count": null,
      "outputs": []
    }
  ]
}