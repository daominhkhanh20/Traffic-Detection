{
  "nbformat": 4,
  "nbformat_minor": 0,
  "metadata": {
    "colab": {
      "name": "StatisticForYolo.ipynb",
      "provenance": []
    },
    "kernelspec": {
      "name": "python3",
      "display_name": "Python 3"
    },
    "accelerator": "GPU"
  },
  "cells": [
    {
      "cell_type": "code",
      "metadata": {
        "colab": {
          "base_uri": "https://localhost:8080/"
        },
        "id": "hpmzAfJBG_Bu",
        "outputId": "a0bc0db1-30cb-46a3-d4ce-17b8c2c2d797"
      },
      "source": [
        "from google.colab import drive\n",
        "drive.mount('/content/drive')"
      ],
      "execution_count": null,
      "outputs": [
        {
          "output_type": "stream",
          "text": [
            "Mounted at /content/drive\n"
          ],
          "name": "stdout"
        }
      ]
    },
    {
      "cell_type": "code",
      "metadata": {
        "id": "yk2x7aU-G4O1"
      },
      "source": [
        "import tensorflow as tf\n",
        "import numpy as np\n",
        "import pandas as pd\n",
        "import os\n",
        "import cv2\n",
        "from PIL import Image"
      ],
      "execution_count": null,
      "outputs": []
    },
    {
      "cell_type": "code",
      "metadata": {
        "id": "m7EmQiQGHFly"
      },
      "source": [
        "!unzip /content/drive/MyDrive/sta.zip"
      ],
      "execution_count": null,
      "outputs": []
    },
    {
      "cell_type": "code",
      "metadata": {
        "id": "PtZiERR5Hlem",
        "colab": {
          "base_uri": "https://localhost:8080/"
        },
        "outputId": "087ec1e3-deb6-4b85-df36-e6550ca861cb"
      },
      "source": [
        "%cd /content/Statistic\n",
        "gt=pd.read_csv(\"gt.csv\")\n",
        "from AssignLabel import predict_name\n",
        "classification=predict_name()"
      ],
      "execution_count": null,
      "outputs": [
        {
          "output_type": "stream",
          "text": [
            "/content/Statistic\n"
          ],
          "name": "stdout"
        }
      ]
    },
    {
      "cell_type": "code",
      "metadata": {
        "id": "bsjmkigMHqi8",
        "colab": {
          "base_uri": "https://localhost:8080/",
          "height": 204
        },
        "outputId": "d02923d1-cd25-456f-eda7-a3671cc5e3bd"
      },
      "source": [
        "gt.head()"
      ],
      "execution_count": null,
      "outputs": [
        {
          "output_type": "execute_result",
          "data": {
            "text/html": [
              "<div>\n",
              "<style scoped>\n",
              "    .dataframe tbody tr th:only-of-type {\n",
              "        vertical-align: middle;\n",
              "    }\n",
              "\n",
              "    .dataframe tbody tr th {\n",
              "        vertical-align: top;\n",
              "    }\n",
              "\n",
              "    .dataframe thead th {\n",
              "        text-align: right;\n",
              "    }\n",
              "</style>\n",
              "<table border=\"1\" class=\"dataframe\">\n",
              "  <thead>\n",
              "    <tr style=\"text-align: right;\">\n",
              "      <th></th>\n",
              "      <th>image</th>\n",
              "      <th>x1</th>\n",
              "      <th>y1</th>\n",
              "      <th>x2</th>\n",
              "      <th>y2</th>\n",
              "      <th>id</th>\n",
              "    </tr>\n",
              "  </thead>\n",
              "  <tbody>\n",
              "    <tr>\n",
              "      <th>0</th>\n",
              "      <td>00000.jpg</td>\n",
              "      <td>774</td>\n",
              "      <td>411</td>\n",
              "      <td>815</td>\n",
              "      <td>446</td>\n",
              "      <td>11</td>\n",
              "    </tr>\n",
              "    <tr>\n",
              "      <th>1</th>\n",
              "      <td>00001.jpg</td>\n",
              "      <td>983</td>\n",
              "      <td>388</td>\n",
              "      <td>1024</td>\n",
              "      <td>432</td>\n",
              "      <td>40</td>\n",
              "    </tr>\n",
              "    <tr>\n",
              "      <th>2</th>\n",
              "      <td>00001.jpg</td>\n",
              "      <td>386</td>\n",
              "      <td>494</td>\n",
              "      <td>442</td>\n",
              "      <td>552</td>\n",
              "      <td>38</td>\n",
              "    </tr>\n",
              "    <tr>\n",
              "      <th>3</th>\n",
              "      <td>00001.jpg</td>\n",
              "      <td>973</td>\n",
              "      <td>335</td>\n",
              "      <td>1031</td>\n",
              "      <td>390</td>\n",
              "      <td>13</td>\n",
              "    </tr>\n",
              "    <tr>\n",
              "      <th>4</th>\n",
              "      <td>00002.jpg</td>\n",
              "      <td>892</td>\n",
              "      <td>476</td>\n",
              "      <td>1006</td>\n",
              "      <td>592</td>\n",
              "      <td>39</td>\n",
              "    </tr>\n",
              "  </tbody>\n",
              "</table>\n",
              "</div>"
            ],
            "text/plain": [
              "       image   x1   y1    x2   y2  id\n",
              "0  00000.jpg  774  411   815  446  11\n",
              "1  00001.jpg  983  388  1024  432  40\n",
              "2  00001.jpg  386  494   442  552  38\n",
              "3  00001.jpg  973  335  1031  390  13\n",
              "4  00002.jpg  892  476  1006  592  39"
            ]
          },
          "metadata": {
            "tags": []
          },
          "execution_count": 6
        }
      ]
    },
    {
      "cell_type": "code",
      "metadata": {
        "id": "8DFsWXBAQYQU"
      },
      "source": [
        "net=cv2.dnn.readNet('yolov3.weights','yolov3.cfg')\n",
        "layer_names=net.getLayerNames()\n",
        "output_layers=[layer_names[i[0]-1]for i in net.getUnconnectedOutLayers()]"
      ],
      "execution_count": null,
      "outputs": []
    },
    {
      "cell_type": "code",
      "metadata": {
        "id": "nHO3rQdHQYTH"
      },
      "source": [
        "def detect_objects(image):\n",
        "    blob = cv2.dnn.blobFromImage(image, scalefactor=1/255, size=(416,416),mean=(0,0,0),swapRB= True,crop=False)\n",
        "    net.setInput(blob)\n",
        "    outputs = net.forward(output_layers)\n",
        "    return outputs"
      ],
      "execution_count": null,
      "outputs": []
    },
    {
      "cell_type": "code",
      "metadata": {
        "id": "ZCMxhLvGQYWv"
      },
      "source": [
        "def get_boxs(outputs,height,width):\n",
        "    boxs=[]#list contain information for object(x_left_conner,y_left_conner,width,height)\n",
        "    confidence_score=[]#confidence score\n",
        "    class_ids=[]#index class in classes\n",
        "    for output in outputs:\n",
        "        for detect in output:\n",
        "            scores=detect[5:]\n",
        "            classid=np.argmax(scores)\n",
        "            conf=scores[classid]\n",
        "            if conf>0.5:\n",
        "                x_center=int(detect[0]*width)\n",
        "                y_center=int(detect[1]*height)\n",
        "                w=int(detect[2]*width)\n",
        "                h=int(detect[3]*height)\n",
        "                x_left_conner=int(x_center-w/2)\n",
        "                y_left_conner=int(y_center-h/2)\n",
        "                boxs.append([x_left_conner,y_left_conner,w,h])\n",
        "                class_ids.append(classid)\n",
        "                confidence_score.append(float(conf))#need to convert to float,if not,error built-in appear\n",
        "    return boxs,confidence_score,class_ids"
      ],
      "execution_count": null,
      "outputs": []
    },
    {
      "cell_type": "code",
      "metadata": {
        "id": "h-p5poLXQYc0"
      },
      "source": [
        "def load(image):\n",
        "    image=cv2.imread(str(image))\n",
        "    height,width=image.shape[:2]\n",
        "    return image,height,width"
      ],
      "execution_count": null,
      "outputs": []
    },
    {
      "cell_type": "code",
      "metadata": {
        "colab": {
          "base_uri": "https://localhost:8080/"
        },
        "id": "tTqym5RrQYf9",
        "outputId": "3cf3733d-081b-4098-e1db-7ca900e26ffb"
      },
      "source": [
        "path=os.getcwd()\n",
        "print(path)\n",
        "os.chdir('image')\n",
        "image_names=os.listdir()\n",
        "bounding_box={}\n",
        "for name in image_names:\n",
        "  indexs=np.where(gt['image']==name)[0]\n",
        "  bounding_box[name]=[]\n",
        "  for index in indexs:\n",
        "    bounding_box[name].append(np.array(gt.iloc[index,1:]))"
      ],
      "execution_count": null,
      "outputs": [
        {
          "output_type": "stream",
          "text": [
            "/content/Statistic\n"
          ],
          "name": "stdout"
        }
      ]
    },
    {
      "cell_type": "code",
      "metadata": {
        "colab": {
          "base_uri": "https://localhost:8080/"
        },
        "id": "UgwbGtA8oh9Z",
        "outputId": "3d2ced14-2d64-47df-bfbe-b49415be58a9"
      },
      "source": [
        "print(bounding_box.get('00001.jpg'))"
      ],
      "execution_count": null,
      "outputs": [
        {
          "output_type": "stream",
          "text": [
            "[array([983, 388, 1024, 432, 40], dtype=object), array([386, 494, 442, 552, 38], dtype=object), array([973, 335, 1031, 390, 13], dtype=object)]\n"
          ],
          "name": "stdout"
        }
      ]
    },
    {
      "cell_type": "code",
      "metadata": {
        "id": "DMS5oAOFQYjC"
      },
      "source": [
        "def get_nearest(box,ground_truth):\n",
        "    list_dist=[]\n",
        "    x,y,w,h=box\n",
        "    t=np.array([x,y,x+w,y+h])\n",
        "    for i in range(ground_truth.shape[0]):\n",
        "        dist=np.linalg.norm(np.array(box)/1000-ground_truth[i,:-1]/1000)\n",
        "        list_dist.append(dist)\n",
        "    index=np.argmin(np.array(list_dist))\n",
        "    return ground_truth[index,-1]           \n",
        "        "
      ],
      "execution_count": null,
      "outputs": []
    },
    {
      "cell_type": "code",
      "metadata": {
        "id": "Y1m3z6nOQYmI"
      },
      "source": [
        "def count_object_correct(boxs,confidences,image,class_id,z,ground_truth):\n",
        "    confidence_threshold=0.5\n",
        "    nms_threshold=0.4\n",
        "    indexs=cv2.dnn.NMSBoxes(boxs,confidences,confidence_threshold,nms_threshold)\n",
        "    c=0\n",
        "    ground_truth.shape[0]-len(indexs)\n",
        "    temp=[]\n",
        "    for i in indexs:\n",
        "        temp.append(boxs[i[0]])\n",
        "    for t in temp:\n",
        "        x,y,w,h=t\n",
        "        id=get_nearest(t,ground_truth)\n",
        "        \n",
        "        image_crop=image[y-int(y*0.01*z):y+h+int(y*0.01*z),x-int(x*0.01*z):x+w+int(x*0.01*z)]\n",
        "        name,index=classification.predict(image_crop)\n",
        "        if index==id:\n",
        "            c+=1\n",
        "        \n",
        "    return (c,ground_truth.shape[0]-len(indexs))"
      ],
      "execution_count": null,
      "outputs": []
    },
    {
      "cell_type": "code",
      "metadata": {
        "id": "38EmcKe89R3n"
      },
      "source": [
        "def count_object_correct1(boxs,confidences,image,class_id,z,ground_truth):\n",
        "    confidence_threshold=0.5\n",
        "    nms_threshold=0.4\n",
        "    indexs=cv2.dnn.NMSBoxes(boxs,confidences,confidence_threshold,nms_threshold)\n",
        "    c=0\n",
        "    ground_truth.shape[0]-len(indexs)\n",
        "    temp=[]\n",
        "    for i in indexs:\n",
        "        temp.append(boxs[i[0]])\n",
        "    for t in temp:\n",
        "        x,y,w,h=t\n",
        "        id=get_nearest(t,ground_truth)\n",
        "        image_crop=image[y-z:y+h+z,x-z:x+w+z]\n",
        "        name,index=classification.predict(image_crop)\n",
        "        if index==id:\n",
        "            c+=1\n",
        "        \n",
        "    return (c,ground_truth.shape[0]-len(indexs))"
      ],
      "execution_count": null,
      "outputs": []
    },
    {
      "cell_type": "code",
      "metadata": {
        "id": "IBbtQlPdQ5Yw",
        "colab": {
          "base_uri": "https://localhost:8080/"
        },
        "outputId": "3365d43d-d7d3-4b29-e5b7-12ff82ba0a05"
      },
      "source": [
        "z=[0,0.5,1,1.5,2,2.5]\n",
        "sub_images=200\n",
        "import random\n",
        "sub_image_names=random.sample(image_names,sub_images)\n",
        "print(sub_image_names)"
      ],
      "execution_count": null,
      "outputs": [
        {
          "output_type": "stream",
          "text": [
            "['00419.jpg', '00253.jpg', '00433.jpg', '00157.jpg', '00055.jpg', '00104.jpg', '00817.jpg', '00279.jpg', '00567.jpg', '00123.jpg', '00702.jpg', '00766.jpg', '00833.jpg', '00803.jpg', '00278.jpg', '00163.jpg', '00808.jpg', '00005.jpg', '00712.jpg', '00403.jpg', '00824.jpg', '00272.jpg', '00004.jpg', '00304.jpg', '00626.jpg', '00729.jpg', '00871.jpg', '00662.jpg', '00133.jpg', '00358.jpg', '00106.jpg', '00421.jpg', '00630.jpg', '00383.jpg', '00897.jpg', '00542.jpg', '00795.jpg', '00672.jpg', '00690.jpg', '00134.jpg', '00593.jpg', '00485.jpg', '00030.jpg', '00654.jpg', '00257.jpg', '00853.jpg', '00008.jpg', '00066.jpg', '00773.jpg', '00665.jpg', '00051.jpg', '00162.jpg', '00122.jpg', '00418.jpg', '00794.jpg', '00226.jpg', '00742.jpg', '00841.jpg', '00356.jpg', '00188.jpg', '00316.jpg', '00222.jpg', '00075.jpg', '00245.jpg', '00340.jpg', '00317.jpg', '00761.jpg', '00155.jpg', '00480.jpg', '00848.jpg', '00516.jpg', '00277.jpg', '00047.jpg', '00695.jpg', '00774.jpg', '00193.jpg', '00311.jpg', '00889.jpg', '00185.jpg', '00608.jpg', '00150.jpg', '00053.jpg', '00102.jpg', '00078.jpg', '00249.jpg', '00280.jpg', '00640.jpg', '00223.jpg', '00085.jpg', '00380.jpg', '00536.jpg', '00221.jpg', '00481.jpg', '00057.jpg', '00019.jpg', '00225.jpg', '00791.jpg', '00378.jpg', '00420.jpg', '00846.jpg', '00734.jpg', '00268.jpg', '00398.jpg', '00787.jpg', '00215.jpg', '00844.jpg', '00493.jpg', '00668.jpg', '00453.jpg', '00243.jpg', '00206.jpg', '00293.jpg', '00309.jpg', '00809.jpg', '00686.jpg', '00056.jpg', '00634.jpg', '00284.jpg', '00879.jpg', '00023.jpg', '00472.jpg', '00012.jpg', '00109.jpg', '00301.jpg', '00737.jpg', '00675.jpg', '00281.jpg', '00204.jpg', '00228.jpg', '00183.jpg', '00103.jpg', '00273.jpg', '00128.jpg', '00048.jpg', '00441.jpg', '00811.jpg', '00339.jpg', '00410.jpg', '00290.jpg', '00641.jpg', '00200.jpg', '00149.jpg', '00603.jpg', '00105.jpg', '00685.jpg', '00074.jpg', '00839.jpg', '00224.jpg', '00187.jpg', '00644.jpg', '00825.jpg', '00693.jpg', '00527.jpg', '00746.jpg', '00855.jpg', '00829.jpg', '00197.jpg', '00130.jpg', '00411.jpg', '00376.jpg', '00818.jpg', '00366.jpg', '00775.jpg', '00725.jpg', '00349.jpg', '00893.jpg', '00107.jpg', '00171.jpg', '00715.jpg', '00785.jpg', '00050.jpg', '00175.jpg', '00397.jpg', '00428.jpg', '00341.jpg', '00575.jpg', '00374.jpg', '00704.jpg', '00621.jpg', '00367.jpg', '00306.jpg', '00129.jpg', '00337.jpg', '00477.jpg', '00488.jpg', '00167.jpg', '00667.jpg', '00405.jpg', '00862.jpg', '00436.jpg', '00369.jpg', '00716.jpg', '00260.jpg', '00036.jpg', '00191.jpg', '00870.jpg', '00805.jpg', '00551.jpg', '00888.jpg', '00013.jpg']\n"
          ],
          "name": "stdout"
        }
      ]
    },
    {
      "cell_type": "code",
      "metadata": {
        "colab": {
          "base_uri": "https://localhost:8080/"
        },
        "id": "5Zkyu0isQYo5",
        "outputId": "d15ec129-f4d5-4335-ff23-9ce94b6e632d"
      },
      "source": [
        "result=[]\n",
        "for i in z:\n",
        "    count_correct=0\n",
        "    count_object=0\n",
        "    count_miss=0\n",
        "    for name in sub_image_names:\n",
        "        list_ground_truth=bounding_box.get(name)\n",
        "        image,height,width=load(name)\n",
        "        outputs=detect_objects(image)\n",
        "        boxs,confidences,class_id=get_boxs(outputs,height,width)\n",
        "        count_object+=len(list_ground_truth)\n",
        "        (c,miss)=count_object_correct(boxs,confidences,image,class_id,i,np.array(list_ground_truth))\n",
        "        count_correct+=c\n",
        "        count_miss+=miss\n",
        "    b=[count_correct,count_object,count_miss]\n",
        "    result.append(b)\n",
        "    print(i)\n",
        "    "
      ],
      "execution_count": null,
      "outputs": [
        {
          "output_type": "stream",
          "text": [
            "0\n",
            "0.5\n",
            "1\n",
            "1.5\n",
            "2\n",
            "2.5\n"
          ],
          "name": "stdout"
        }
      ]
    },
    {
      "cell_type": "code",
      "metadata": {
        "id": "6ejXoOKPQYsP",
        "colab": {
          "base_uri": "https://localhost:8080/"
        },
        "outputId": "2991d0fb-7228-4044-d766-3c4fd6eb0e73"
      },
      "source": [
        "corrects=[]\n",
        "totals=[]\n",
        "miss=[]\n",
        "for i in result:\n",
        "    corrects.append(i[0])\n",
        "    totals.append(i[1])\n",
        "    miss.append(i[2])\n",
        "print(totals)\n",
        "print(corrects)\n",
        "print(miss)\n",
        "z1=[str(i)+'%' for i in z]"
      ],
      "execution_count": null,
      "outputs": [
        {
          "output_type": "stream",
          "text": [
            "[333, 333, 333, 333, 333, 333]\n",
            "[146, 175, 185, 189, 178, 155]\n",
            "[8, 8, 8, 8, 8, 8]\n"
          ],
          "name": "stdout"
        }
      ]
    },
    {
      "cell_type": "code",
      "metadata": {
        "id": "BVdwP7JSQYzh",
        "colab": {
          "base_uri": "https://localhost:8080/",
          "height": 235
        },
        "outputId": "f6dd404e-dea3-4cc1-863a-0cc4d76576ba"
      },
      "source": [
        "df=pd.DataFrame({'Object miss':miss,'Correct':corrects,'Total object':totals},index=z1)\n",
        "df"
      ],
      "execution_count": null,
      "outputs": [
        {
          "output_type": "execute_result",
          "data": {
            "text/html": [
              "<div>\n",
              "<style scoped>\n",
              "    .dataframe tbody tr th:only-of-type {\n",
              "        vertical-align: middle;\n",
              "    }\n",
              "\n",
              "    .dataframe tbody tr th {\n",
              "        vertical-align: top;\n",
              "    }\n",
              "\n",
              "    .dataframe thead th {\n",
              "        text-align: right;\n",
              "    }\n",
              "</style>\n",
              "<table border=\"1\" class=\"dataframe\">\n",
              "  <thead>\n",
              "    <tr style=\"text-align: right;\">\n",
              "      <th></th>\n",
              "      <th>Object miss</th>\n",
              "      <th>Correct</th>\n",
              "      <th>Total object</th>\n",
              "    </tr>\n",
              "  </thead>\n",
              "  <tbody>\n",
              "    <tr>\n",
              "      <th>0%</th>\n",
              "      <td>8</td>\n",
              "      <td>146</td>\n",
              "      <td>333</td>\n",
              "    </tr>\n",
              "    <tr>\n",
              "      <th>0.5%</th>\n",
              "      <td>8</td>\n",
              "      <td>175</td>\n",
              "      <td>333</td>\n",
              "    </tr>\n",
              "    <tr>\n",
              "      <th>1%</th>\n",
              "      <td>8</td>\n",
              "      <td>185</td>\n",
              "      <td>333</td>\n",
              "    </tr>\n",
              "    <tr>\n",
              "      <th>1.5%</th>\n",
              "      <td>8</td>\n",
              "      <td>189</td>\n",
              "      <td>333</td>\n",
              "    </tr>\n",
              "    <tr>\n",
              "      <th>2%</th>\n",
              "      <td>8</td>\n",
              "      <td>178</td>\n",
              "      <td>333</td>\n",
              "    </tr>\n",
              "    <tr>\n",
              "      <th>2.5%</th>\n",
              "      <td>8</td>\n",
              "      <td>155</td>\n",
              "      <td>333</td>\n",
              "    </tr>\n",
              "  </tbody>\n",
              "</table>\n",
              "</div>"
            ],
            "text/plain": [
              "      Object miss  Correct  Total object\n",
              "0%              8      146           333\n",
              "0.5%            8      175           333\n",
              "1%              8      185           333\n",
              "1.5%            8      189           333\n",
              "2%              8      178           333\n",
              "2.5%            8      155           333"
            ]
          },
          "metadata": {
            "tags": []
          },
          "execution_count": 35
        }
      ]
    },
    {
      "cell_type": "code",
      "metadata": {
        "id": "LHoeeIg-QY2G",
        "colab": {
          "base_uri": "https://localhost:8080/",
          "height": 299
        },
        "outputId": "610eb243-f381-4768-e372-72240561a420"
      },
      "source": [
        "os.chdir(\"..\")\n",
        "os.chdir(\"..\")\n",
        "from matplotlib import pyplot as plt\n",
        "import matplotlib\n",
        "matplotlib.style.use('ggplot')\n",
        "plt.figure(figsize=(20,20))\n",
        "fig=df.plot.bar(rot=0)\n",
        "plt.title(\"Total image:{},Total object miss:{}\".format(sub_images,sum(miss)))\n",
        "plt.savefig('result1.png')"
      ],
      "execution_count": null,
      "outputs": [
        {
          "output_type": "display_data",
          "data": {
            "text/plain": [
              "<Figure size 1440x1440 with 0 Axes>"
            ]
          },
          "metadata": {
            "tags": []
          }
        },
        {
          "output_type": "display_data",
          "data": {
            "image/png": "[encoded data removed]",
            "text/plain": [
              "<Figure size 432x288 with 1 Axes>"
            ]
          },
          "metadata": {
            "tags": []
          }
        }
      ]
    },
    {
      "cell_type": "code",
      "metadata": {
        "colab": {
          "base_uri": "https://localhost:8080/"
        },
        "id": "PLnlE_Qayvj5",
        "outputId": "c19754ba-a0e5-427c-a496-6c9cbd4214bd"
      },
      "source": [
        "%cd /content/"
      ],
      "execution_count": null,
      "outputs": [
        {
          "output_type": "stream",
          "text": [
            "/content\n"
          ],
          "name": "stdout"
        }
      ]
    },
    {
      "cell_type": "code",
      "metadata": {
        "id": "huYRWyVXkeCe",
        "colab": {
          "base_uri": "https://localhost:8080/"
        },
        "outputId": "ea9910a0-0063-47e2-f75a-09ee7f7aa3de"
      },
      "source": [
        "z1=[4,8,9,10,11,12,15]\n",
        "os.chdir('Statistic/image')\n",
        "image_names1=os.listdir()\n",
        "print(image_names1)\n",
        "sub=200\n",
        "import random\n",
        "sub_image_names1=random.sample(image_names1,sub)\n",
        "print(sub_image_names1)"
      ],
      "execution_count": null,
      "outputs": [
        {
          "output_type": "stream",
          "text": [
            "['00191.jpg', '00310.jpg', '00279.jpg', '00207.jpg', '00477.jpg', '00291.jpg', '00835.jpg', '00058.jpg', '00685.jpg', '00239.jpg', '00515.jpg', '00492.jpg', '00722.jpg', '00633.jpg', '00761.jpg', '00208.jpg', '00136.jpg', '00172.jpg', '00497.jpg', '00025.jpg', '00341.jpg', '00244.jpg', '00700.jpg', '00889.jpg', '00230.jpg', '00178.jpg', '00188.jpg', '00764.jpg', '00513.jpg', '00671.jpg', '00109.jpg', '00603.jpg', '00010.jpg', '00859.jpg', '00147.jpg', '00531.jpg', '00026.jpg', '00257.jpg', '00854.jpg', '00807.jpg', '00102.jpg', '00287.jpg', '00486.jpg', '00138.jpg', '00733.jpg', '00864.jpg', '00440.jpg', '00107.jpg', '00794.jpg', '00323.jpg', '00303.jpg', '00420.jpg', '00259.jpg', '00622.jpg', '00408.jpg', '00065.jpg', '00351.jpg', '00162.jpg', '00656.jpg', '00391.jpg', '00458.jpg', '00182.jpg', '00300.jpg', '00410.jpg', '00836.jpg', '00689.jpg', '00813.jpg', '00660.jpg', '00388.jpg', '00664.jpg', '00669.jpg', '00196.jpg', '00177.jpg', '00642.jpg', '00894.jpg', '00301.jpg', '00286.jpg', '00090.jpg', '00204.jpg', '00039.jpg', '00119.jpg', '00350.jpg', '00865.jpg', '00628.jpg', '00674.jpg', '00565.jpg', '00267.jpg', '00444.jpg', '00886.jpg', '00311.jpg', '00784.jpg', '00637.jpg', '00045.jpg', '00265.jpg', '00347.jpg', '00447.jpg', '00371.jpg', '00715.jpg', '00234.jpg', '00841.jpg', '00163.jpg', '00148.jpg', '00692.jpg', '00106.jpg', '00019.jpg', '00296.jpg', '00125.jpg', '00202.jpg', '00501.jpg', '00209.jpg', '00214.jpg', '00456.jpg', '00430.jpg', '00871.jpg', '00322.jpg', '00658.jpg', '00639.jpg', '00785.jpg', '00349.jpg', '00670.jpg', '00457.jpg', '00393.jpg', '00334.jpg', '00193.jpg', '00269.jpg', '00650.jpg', '00356.jpg', '00842.jpg', '00817.jpg', '00002.jpg', '00298.jpg', '00263.jpg', '00754.jpg', '00041.jpg', '00433.jpg', '00014.jpg', '00773.jpg', '00386.jpg', '00801.jpg', '00015.jpg', '00277.jpg', '00651.jpg', '00187.jpg', '00264.jpg', '00245.jpg', '00142.jpg', '00219.jpg', '00450.jpg', '00426.jpg', '00467.jpg', '00130.jpg', '00134.jpg', '00613.jpg', '00417.jpg', '00552.jpg', '00046.jpg', '00024.jpg', '00262.jpg', '00403.jpg', '00696.jpg', '00154.jpg', '00318.jpg', '00461.jpg', '00699.jpg', '00490.jpg', '00706.jpg', '00421.jpg', '00081.jpg', '00115.jpg', '00398.jpg', '00216.jpg', '00809.jpg', '00242.jpg', '00480.jpg', '00604.jpg', '00272.jpg', '00127.jpg', '00126.jpg', '00027.jpg', '00395.jpg', '00601.jpg', '00805.jpg', '00021.jpg', '00274.jpg', '00256.jpg', '00070.jpg', '00167.jpg', '00822.jpg', '00153.jpg', '00544.jpg', '00621.jpg', '00212.jpg', '00197.jpg', '00811.jpg', '00124.jpg', '00268.jpg', '00823.jpg', '00129.jpg', '00297.jpg', '00111.jpg', '00080.jpg', '00434.jpg', '00527.jpg', '00459.jpg', '00275.jpg', '00370.jpg', '00104.jpg', '00315.jpg', '00504.jpg', '00774.jpg', '00653.jpg', '00194.jpg', '00253.jpg', '00122.jpg', '00453.jpg', '00225.jpg', '00647.jpg', '00528.jpg', '00503.jpg', '00688.jpg', '00404.jpg', '00029.jpg', '00466.jpg', '00240.jpg', '00229.jpg', '00040.jpg', '00236.jpg', '00036.jpg', '00005.jpg', '00406.jpg', '00634.jpg', '00280.jpg', '00483.jpg', '00821.jpg', '00763.jpg', '00438.jpg', '00101.jpg', '00180.jpg', '00616.jpg', '00222.jpg', '00299.jpg', '00756.jpg', '00472.jpg', '00032.jpg', '00397.jpg', '00536.jpg', '00648.jpg', '00008.jpg', '00723.jpg', '00313.jpg', '00465.jpg', '00719.jpg', '00428.jpg', '00473.jpg', '00887.jpg', '00882.jpg', '00705.jpg', '00557.jpg', '00013.jpg', '00857.jpg', '00363.jpg', '00116.jpg', '00626.jpg', '00048.jpg', '00358.jpg', '00898.jpg', '00766.jpg', '00317.jpg', '00100.jpg', '00192.jpg', '00095.jpg', '00302.jpg', '00448.jpg', '00672.jpg', '00247.jpg', '00074.jpg', '00602.jpg', '00018.jpg', '00566.jpg', '00064.jpg', '00028.jpg', '00441.jpg', '00416.jpg', '00051.jpg', '00215.jpg', '00362.jpg', '00186.jpg', '00158.jpg', '00556.jpg', '00307.jpg', '00728.jpg', '00112.jpg', '00075.jpg', '00431.jpg', '00357.jpg', '00217.jpg', '00493.jpg', '00073.jpg', '00290.jpg', '00382.jpg', '00667.jpg', '00384.jpg', '00266.jpg', '00011.jpg', '00305.jpg', '00059.jpg', '00309.jpg', '00610.jpg', '00184.jpg', '00844.jpg', '00288.jpg', '00144.jpg', '00885.jpg', '00333.jpg', '00084.jpg', '00516.jpg', '00377.jpg', '00020.jpg', '00481.jpg', '00802.jpg', '00376.jpg', '00135.jpg', '00367.jpg', '00228.jpg', '00777.jpg', '00755.jpg', '00121.jpg', '00778.jpg', '00088.jpg', '00099.jpg', '00502.jpg', '00524.jpg', '00159.jpg', '00168.jpg', '00199.jpg', '00098.jpg', '00069.jpg', '00849.jpg', '00295.jpg', '00673.jpg', '00661.jpg', '00140.jpg', '00056.jpg', '00548.jpg', '00736.jpg', '00818.jpg', '00870.jpg', '00837.jpg', '00649.jpg', '00460.jpg', '00896.jpg', '00451.jpg', '00697.jpg', '00436.jpg', '00640.jpg', '00042.jpg', '00717.jpg', '00316.jpg', '00078.jpg', '00738.jpg', '00609.jpg', '00016.jpg', '00564.jpg', '00445.jpg', '00405.jpg', '00113.jpg', '00644.jpg', '00505.jpg', '00146.jpg', '00294.jpg', '00825.jpg', '00414.jpg', '00509.jpg', '00476.jpg', '00632.jpg', '00183.jpg', '00523.jpg', '00355.jpg', '00306.jpg', '00304.jpg', '00091.jpg', '00863.jpg', '00762.jpg', '00055.jpg', '00224.jpg', '00374.jpg', '00077.jpg', '00079.jpg', '00808.jpg', '00174.jpg', '00443.jpg', '00226.jpg', '00137.jpg', '00114.jpg', '00862.jpg', '00063.jpg', '00085.jpg', '00185.jpg', '00415.jpg', '00170.jpg', '00131.jpg', '00260.jpg', '00484.jpg', '00352.jpg', '00392.jpg', '00475.jpg', '00668.jpg', '00560.jpg', '00783.jpg', '00853.jpg', '00152.jpg', '00206.jpg', '00879.jpg', '00031.jpg', '00061.jpg', '00772.jpg', '00165.jpg', '00030.jpg', '00285.jpg', '00340.jpg', '00082.jpg', '00487.jpg', '00243.jpg', '00631.jpg', '00237.jpg', '00714.jpg', '00775.jpg', '00248.jpg', '00372.jpg', '00071.jpg', '00314.jpg', '00521.jpg', '00425.jpg', '00360.jpg', '00702.jpg', '00635.jpg', '00721.jpg', '00373.jpg', '00096.jpg', '00716.jpg', '00003.jpg', '00083.jpg', '00779.jpg', '00620.jpg', '00218.jpg', '00189.jpg', '00760.jpg', '00611.jpg', '00838.jpg', '00828.jpg', '00282.jpg', '00468.jpg', '00284.jpg', '00149.jpg', '00169.jpg', '00575.jpg', '00161.jpg', '00615.jpg', '00657.jpg', '00385.jpg', '00258.jpg', '00710.jpg', '00816.jpg', '00157.jpg', '00251.jpg', '00118.jpg', '00893.jpg', '00250.jpg', '00593.jpg', '00203.jpg', '00383.jpg', '00571.jpg', '00067.jpg', '00680.jpg', '00379.jpg', '00470.jpg', '00283.jpg', '00150.jpg', '00824.jpg', '00751.jpg', '00874.jpg', '00241.jpg', '00518.jpg', '00133.jpg', '00485.jpg', '00123.jpg', '00734.jpg', '00455.jpg', '00452.jpg', '00725.jpg', '00396.jpg', '00171.jpg', '00797.jpg', '00047.jpg', '00128.jpg', '00319.jpg', '00221.jpg', '00418.jpg', '00831.jpg', '00789.jpg', '00359.jpg', '00881.jpg', '00663.jpg', '00740.jpg', '00057.jpg', '00378.jpg', '00852.jpg', '00076.jpg', '00866.jpg', '00089.jpg', '00729.jpg', '00488.jpg', '00068.jpg', '00233.jpg', '00072.jpg', '00608.jpg', '00891.jpg', '00231.jpg', '00605.jpg', '00004.jpg', '00732.jpg', '00006.jpg', '00339.jpg', '00223.jpg', '00227.jpg', '00419.jpg', '00346.jpg', '00033.jpg', '00646.jpg', '00829.jpg', '00402.jpg', '00369.jpg', '00190.jpg', '00530.jpg', '00720.jpg', '00092.jpg', '00545.jpg', '00278.jpg', '00869.jpg', '00293.jpg', '00155.jpg', '00211.jpg', '00411.jpg', '00387.jpg', '00023.jpg', '00806.jpg', '00707.jpg', '00803.jpg', '00607.jpg', '00730.jpg', '00474.jpg', '00570.jpg', '00413.jpg', '00791.jpg', '00380.jpg', '00034.jpg', '00343.jpg', '00050.jpg', '00741.jpg', '00401.jpg', '00498.jpg', '00686.jpg', '00683.jpg', '00682.jpg', '00151.jpg', '00508.jpg', '00281.jpg', '00514.jpg', '00093.jpg', '00694.jpg', '00641.jpg', '00895.jpg', '00499.jpg', '00312.jpg', '00665.jpg', '00103.jpg', '00087.jpg', '00551.jpg', '00606.jpg', '00860.jpg', '00423.jpg', '00062.jpg', '00517.jpg', '00043.jpg', '00678.jpg', '00512.jpg', '00679.jpg', '00693.jpg', '00770.jpg', '00703.jpg', '00519.jpg', '00872.jpg', '00252.jpg', '00094.jpg', '00261.jpg', '00181.jpg', '00320.jpg', '00156.jpg', '00507.jpg', '00645.jpg', '00270.jpg', '00496.jpg', '00254.jpg', '00742.jpg', '00053.jpg', '00132.jpg', '00220.jpg', '00105.jpg', '00412.jpg', '00164.jpg', '00782.jpg', '00435.jpg', '00776.jpg', '00001.jpg', '00833.jpg', '00612.jpg', '00520.jpg', '00009.jpg', '00120.jpg', '00446.jpg', '00052.jpg', '00876.jpg', '00746.jpg', '00701.jpg', '00851.jpg', '00848.jpg', '00698.jpg', '00899.jpg', '00276.jpg', '00771.jpg', '00662.jpg', '00432.jpg', '00471.jpg', '00834.jpg', '00625.jpg', '00292.jpg', '00038.jpg', '00737.jpg', '00175.jpg', '00375.jpg', '00846.jpg', '00787.jpg', '00491.jpg', '00850.jpg', '00744.jpg', '00868.jpg', '00166.jpg', '00422.jpg', '00195.jpg', '00366.jpg', '00712.jpg', '00427.jpg', '00273.jpg', '00654.jpg', '00690.jpg', '00884.jpg', '00494.jpg', '00867.jpg', '00390.jpg', '00655.jpg', '00500.jpg', '00000.jpg', '00012.jpg', '00353.jpg', '00479.jpg', '00798.jpg', '00839.jpg', '00691.jpg', '00542.jpg', '00344.jpg', '00619.jpg', '00246.jpg', '00117.jpg', '00747.jpg', '00160.jpg', '00897.jpg', '00599.jpg', '00200.jpg', '00888.jpg', '00232.jpg', '00780.jpg', '00567.jpg', '00845.jpg', '00749.jpg', '00675.jpg', '00638.jpg', '00704.jpg', '00255.jpg', '00044.jpg', '00855.jpg', '00439.jpg', '00788.jpg', '00017.jpg', '00173.jpg', '00478.jpg', '00795.jpg', '00681.jpg', '00201.jpg', '00210.jpg', '00271.jpg', '00752.jpg', '00289.jpg', '00482.jpg', '00858.jpg', '00205.jpg', '00022.jpg', '00330.jpg', '00368.jpg', '00086.jpg', '00054.jpg', '00060.jpg', '00238.jpg', '00179.jpg', '00695.jpg', '00176.jpg', '00348.jpg', '00820.jpg', '00097.jpg', '00143.jpg', '00623.jpg', '00630.jpg', '00007.jpg', '00827.jpg', '00463.jpg', '00449.jpg', '00110.jpg', '00659.jpg', '00249.jpg', '00066.jpg', '00037.jpg', '00758.jpg', '00400.jpg', '00198.jpg', '00337.jpg', '00554.jpg', '00338.jpg', '00035.jpg', '00141.jpg', '00049.jpg', '00624.jpg', '00810.jpg']\n",
            "['00837.jpg', '00554.jpg', '00788.jpg', '00787.jpg', '00802.jpg', '00430.jpg', '00473.jpg', '00761.jpg', '00124.jpg', '00299.jpg', '00340.jpg', '00406.jpg', '00641.jpg', '00482.jpg', '00803.jpg', '00005.jpg', '00807.jpg', '00777.jpg', '00879.jpg', '00712.jpg', '00607.jpg', '00737.jpg', '00513.jpg', '00670.jpg', '00508.jpg', '00151.jpg', '00521.jpg', '00564.jpg', '00366.jpg', '00650.jpg', '00266.jpg', '00236.jpg', '00380.jpg', '00606.jpg', '00669.jpg', '00762.jpg', '00375.jpg', '00146.jpg', '00369.jpg', '00414.jpg', '00480.jpg', '00693.jpg', '00688.jpg', '00349.jpg', '00680.jpg', '00575.jpg', '00531.jpg', '00695.jpg', '00894.jpg', '00433.jpg', '00117.jpg', '00746.jpg', '00046.jpg', '00829.jpg', '00007.jpg', '00063.jpg', '00254.jpg', '00093.jpg', '00644.jpg', '00031.jpg', '00134.jpg', '00499.jpg', '00251.jpg', '00233.jpg', '00476.jpg', '00196.jpg', '00075.jpg', '00758.jpg', '00729.jpg', '00120.jpg', '00300.jpg', '00295.jpg', '00377.jpg', '00286.jpg', '00798.jpg', '00089.jpg', '00653.jpg', '00467.jpg', '00221.jpg', '00169.jpg', '00309.jpg', '00237.jpg', '00779.jpg', '00036.jpg', '00874.jpg', '00780.jpg', '00056.jpg', '00620.jpg', '00141.jpg', '00639.jpg', '00253.jpg', '00456.jpg', '00402.jpg', '00416.jpg', '00682.jpg', '00085.jpg', '00463.jpg', '00421.jpg', '00808.jpg', '00817.jpg', '00088.jpg', '00153.jpg', '00519.jpg', '00891.jpg', '00293.jpg', '00285.jpg', '00438.jpg', '00674.jpg', '00844.jpg', '00634.jpg', '00435.jpg', '00763.jpg', '00449.jpg', '00245.jpg', '00690.jpg', '00220.jpg', '00714.jpg', '00242.jpg', '00140.jpg', '00401.jpg', '00144.jpg', '00852.jpg', '00100.jpg', '00339.jpg', '00111.jpg', '00232.jpg', '00621.jpg', '00599.jpg', '00492.jpg', '00383.jpg', '00619.jpg', '00863.jpg', '00350.jpg', '00701.jpg', '00132.jpg', '00186.jpg', '00023.jpg', '00015.jpg', '00367.jpg', '00092.jpg', '00207.jpg', '00184.jpg', '00062.jpg', '00355.jpg', '00271.jpg', '00654.jpg', '00623.jpg', '00603.jpg', '00717.jpg', '00126.jpg', '00316.jpg', '00018.jpg', '00287.jpg', '00277.jpg', '00871.jpg', '00475.jpg', '00330.jpg', '00742.jpg', '00263.jpg', '00514.jpg', '00135.jpg', '00064.jpg', '00413.jpg', '00774.jpg', '00685.jpg', '00490.jpg', '00382.jpg', '00291.jpg', '00059.jpg', '00857.jpg', '00252.jpg', '00052.jpg', '00439.jpg', '00431.jpg', '00408.jpg', '00528.jpg', '00884.jpg', '00227.jpg', '00612.jpg', '00809.jpg', '00053.jpg', '00302.jpg', '00278.jpg', '00518.jpg', '00314.jpg', '00443.jpg', '00094.jpg', '00230.jpg', '00705.jpg', '00791.jpg', '00833.jpg', '00446.jpg', '00683.jpg', '00751.jpg', '00073.jpg', '00193.jpg', '00168.jpg', '00174.jpg', '00570.jpg', '00133.jpg']\n"
          ],
          "name": "stdout"
        }
      ]
    },
    {
      "cell_type": "code",
      "metadata": {
        "id": "lgGyRcNglXoP",
        "colab": {
          "base_uri": "https://localhost:8080/"
        },
        "outputId": "b7791144-a65a-4986-8081-901c5c1cef20"
      },
      "source": [
        "result1=[]\n",
        "for i in z1:\n",
        "    count_correct=0\n",
        "    count_object=0\n",
        "    count_miss=0\n",
        "    for name1 in sub_image_names1:\n",
        "        list_ground_truth=bounding_box.get(name1)\n",
        "        image,height,width=load(name1)\n",
        "        outputs=detect_objects(image)\n",
        "        boxs,confidences,class_id=get_boxs(outputs,height,width)\n",
        "        count_object+=len(list_ground_truth)\n",
        "        (c,miss)=count_object_correct1(boxs,confidences,image,class_id,i,np.array(list_ground_truth))\n",
        "        count_correct+=c\n",
        "        count_miss+=miss\n",
        "    b=[count_correct,count_object,count_miss]\n",
        "    result1.append(b)\n",
        "    print(i)\n",
        "    "
      ],
      "execution_count": null,
      "outputs": [
        {
          "output_type": "stream",
          "text": [
            "4\n",
            "8\n",
            "9\n",
            "10\n",
            "11\n",
            "12\n",
            "15\n"
          ],
          "name": "stdout"
        }
      ]
    },
    {
      "cell_type": "code",
      "metadata": {
        "colab": {
          "base_uri": "https://localhost:8080/"
        },
        "id": "bpaXRr3m1wrz",
        "outputId": "da88fe85-c3e6-4add-9609-fdf0d7533f15"
      },
      "source": [
        "print(result1)"
      ],
      "execution_count": null,
      "outputs": [
        {
          "output_type": "stream",
          "text": [
            "[[206, 338, 12], [207, 338, 12], [201, 338, 12], [198, 338, 12], [196, 338, 12], [196, 338, 12], [180, 338, 12]]\n"
          ],
          "name": "stdout"
        }
      ]
    },
    {
      "cell_type": "code",
      "metadata": {
        "id": "FTZLOyIFlfi8",
        "colab": {
          "base_uri": "https://localhost:8080/"
        },
        "outputId": "cf1876bf-cfa8-4cb7-b91d-825c776e24db"
      },
      "source": [
        "corrects=[]\n",
        "totals=[]\n",
        "miss=[]\n",
        "for i in result1:\n",
        "    corrects.append(i[0])\n",
        "    totals.append(i[1])\n",
        "    miss.append(i[2])\n",
        "print(totals)\n",
        "print(corrects)\n",
        "print(miss)"
      ],
      "execution_count": null,
      "outputs": [
        {
          "output_type": "stream",
          "text": [
            "[338, 338, 338, 338, 338, 338, 338]\n",
            "[206, 207, 201, 198, 196, 196, 180]\n",
            "[12, 12, 12, 12, 12, 12, 12]\n"
          ],
          "name": "stdout"
        }
      ]
    },
    {
      "cell_type": "code",
      "metadata": {
        "id": "Ho1wjT70ll0D",
        "colab": {
          "base_uri": "https://localhost:8080/",
          "height": 266
        },
        "outputId": "1c9287e3-6a30-4ecb-8568-0a235c9e60f0"
      },
      "source": [
        "df=pd.DataFrame({'Object miss':miss,'Correct':corrects,'Total object':totals},index=z1)\n",
        "df"
      ],
      "execution_count": null,
      "outputs": [
        {
          "output_type": "execute_result",
          "data": {
            "text/html": [
              "<div>\n",
              "<style scoped>\n",
              "    .dataframe tbody tr th:only-of-type {\n",
              "        vertical-align: middle;\n",
              "    }\n",
              "\n",
              "    .dataframe tbody tr th {\n",
              "        vertical-align: top;\n",
              "    }\n",
              "\n",
              "    .dataframe thead th {\n",
              "        text-align: right;\n",
              "    }\n",
              "</style>\n",
              "<table border=\"1\" class=\"dataframe\">\n",
              "  <thead>\n",
              "    <tr style=\"text-align: right;\">\n",
              "      <th></th>\n",
              "      <th>Object miss</th>\n",
              "      <th>Correct</th>\n",
              "      <th>Total object</th>\n",
              "    </tr>\n",
              "  </thead>\n",
              "  <tbody>\n",
              "    <tr>\n",
              "      <th>4</th>\n",
              "      <td>12</td>\n",
              "      <td>206</td>\n",
              "      <td>338</td>\n",
              "    </tr>\n",
              "    <tr>\n",
              "      <th>8</th>\n",
              "      <td>12</td>\n",
              "      <td>207</td>\n",
              "      <td>338</td>\n",
              "    </tr>\n",
              "    <tr>\n",
              "      <th>9</th>\n",
              "      <td>12</td>\n",
              "      <td>201</td>\n",
              "      <td>338</td>\n",
              "    </tr>\n",
              "    <tr>\n",
              "      <th>10</th>\n",
              "      <td>12</td>\n",
              "      <td>198</td>\n",
              "      <td>338</td>\n",
              "    </tr>\n",
              "    <tr>\n",
              "      <th>11</th>\n",
              "      <td>12</td>\n",
              "      <td>196</td>\n",
              "      <td>338</td>\n",
              "    </tr>\n",
              "    <tr>\n",
              "      <th>12</th>\n",
              "      <td>12</td>\n",
              "      <td>196</td>\n",
              "      <td>338</td>\n",
              "    </tr>\n",
              "    <tr>\n",
              "      <th>15</th>\n",
              "      <td>12</td>\n",
              "      <td>180</td>\n",
              "      <td>338</td>\n",
              "    </tr>\n",
              "  </tbody>\n",
              "</table>\n",
              "</div>"
            ],
            "text/plain": [
              "    Object miss  Correct  Total object\n",
              "4            12      206           338\n",
              "8            12      207           338\n",
              "9            12      201           338\n",
              "10           12      198           338\n",
              "11           12      196           338\n",
              "12           12      196           338\n",
              "15           12      180           338"
            ]
          },
          "metadata": {
            "tags": []
          },
          "execution_count": 24
        }
      ]
    },
    {
      "cell_type": "code",
      "metadata": {
        "id": "0aiL7xvilqu9",
        "colab": {
          "base_uri": "https://localhost:8080/",
          "height": 316
        },
        "outputId": "56533dff-1419-46a6-fbff-31960c2b0417"
      },
      "source": [
        "%cd /content/\n",
        "from matplotlib import pyplot as plt\n",
        "import matplotlib\n",
        "matplotlib.style.use('ggplot')\n",
        "plt.figure(figsize=(20,20))\n",
        "fig=df.plot.bar(rot=0)\n",
        "plt.title(\"Total image:{},Total object miss {}\".format(sub,max(miss)))\n",
        "plt.savefig('result2.png')"
      ],
      "execution_count": null,
      "outputs": [
        {
          "output_type": "stream",
          "text": [
            "/content\n"
          ],
          "name": "stdout"
        },
        {
          "output_type": "display_data",
          "data": {
            "text/plain": [
              "<Figure size 1440x1440 with 0 Axes>"
            ]
          },
          "metadata": {
            "tags": []
          }
        },
        {
          "output_type": "display_data",
          "data": {
            "image/png": "[encoded data removed]",
            "text/plain": [
              "<Figure size 432x288 with 1 Axes>"
            ]
          },
          "metadata": {
            "tags": []
          }
        }
      ]
    },
    {
      "cell_type": "code",
      "metadata": {
        "id": "UcV5sYSpAY1s"
      },
      "source": [
        "!ls"
      ],
      "execution_count": null,
      "outputs": []
    },
    {
      "cell_type": "code",
      "metadata": {
        "id": "oQ4lbvxuAkG-"
      },
      "source": [
        ""
      ],
      "execution_count": null,
      "outputs": []
    }
  ]
}